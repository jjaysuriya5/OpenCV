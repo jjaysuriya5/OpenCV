{
 "cells": [
  {
   "cell_type": "code",
   "execution_count": 1,
   "metadata": {},
   "outputs": [],
   "source": [
    "import numpy as np\n",
    "import matplotlib.pyplot as plt\n",
    "import cv2"
   ]
  },
  {
   "cell_type": "markdown",
   "metadata": {},
   "source": [
    "# Left Mouse Button Event "
   ]
  },
  {
   "cell_type": "code",
   "execution_count": 3,
   "metadata": {},
   "outputs": [],
   "source": [
    "\n",
    "# Function \n",
    "\n",
    "def draw_circle(event , x , y ,flags , param):\n",
    "    if event == cv2.EVENT_LBUTTONDOWN:\n",
    "        cv2.circle( img , center = (x,y) , radius = 20 , color = (255,255,255) , thickness = -1 )\n",
    "\n",
    "cv2.namedWindow(winname = 'Draw Circle')\n",
    "\n",
    "cv2.setMouseCallback( 'Draw Circle' , draw_circle)\n",
    "\n",
    "# Openings up image \n",
    "\n",
    "img = np.zeros( (512,512,3) , dtype = np.int8 )\n",
    "\n",
    "while True:\n",
    "    cv2.imshow( 'Draw Circle' , img )\n",
    "    if cv2.waitKey(10) & 0xFF == 27 :\n",
    "        break\n",
    "\n",
    "cv2.destroyAllWindows()"
   ]
  },
  {
   "cell_type": "markdown",
   "metadata": {},
   "source": [
    "# Right Mouse Button Event "
   ]
  },
  {
   "cell_type": "code",
   "execution_count": 3,
   "metadata": {},
   "outputs": [],
   "source": [
    "\n",
    "# Function \n",
    "\n",
    "def draw_circle(event , x , y ,flags , param):\n",
    "    if event == cv2.EVENT_RBUTTONDOWN:\n",
    "        cv2.circle( img , center = (x,y) , radius = 20 , color = (255,255,255) , thickness = -1 )\n",
    "\n",
    "cv2.namedWindow(winname = 'Draw Circle')\n",
    "\n",
    "cv2.setMouseCallback( 'Draw Circle' , draw_circle)\n",
    "\n",
    "# Openings up image \n",
    "\n",
    "img = np.zeros( (512,512,3) , dtype = np.int8 )\n",
    "\n",
    "while True:\n",
    "    cv2.imshow( 'Draw Circle' , img )\n",
    "    if cv2.waitKey(10) & 0xFF == 27 :\n",
    "        break\n",
    "\n",
    "cv2.destroyAllWindows()"
   ]
  },
  {
   "cell_type": "markdown",
   "metadata": {},
   "source": [
    "# Mouse Dragging Event"
   ]
  },
  {
   "cell_type": "code",
   "execution_count": 8,
   "metadata": {},
   "outputs": [],
   "source": [
    "rect = False\n",
    "ix , iy = -1,-1\n",
    "\n",
    "def draw( event , x , y , flags , param ):\n",
    "    global ix,iy,rect\n",
    "    \n",
    "    if event == cv2.EVENT_LBUTTONDOWN:\n",
    "        rect = True\n",
    "        ix , iy = x , y \n",
    "    elif event == cv2.EVENT_MOUSEMOVE:\n",
    "        if rect  and ix  < x and iy < y :\n",
    "            cv2.rectangle( img , pt1 = (ix,iy) , pt2 = (x,y) , color = (255,255,255) , thickness = -1 )\n",
    "    elif event == cv2.EVENT_LBUTTONUP:\n",
    "        rect = False \n",
    "        cv2.rectangle( img , pt1 = (ix,iy) , pt2 = (x,y) , color = (255,255,255) , thickness = -1 )\n",
    "\n",
    "cv2.namedWindow('Draw Rectangle')\n",
    "\n",
    "cv2.setMouseCallback('Draw Rectangle' , draw )\n",
    "\n",
    "img = np.zeros( (512,512,3) , dtype = np.int8 )\n",
    "\n",
    "while True:\n",
    "    cv2.imshow(  'Draw Rectangle' , img  )\n",
    "    if cv2.waitKey(5) & 0xFF == 27:\n",
    "        break\n",
    "cv2.destroyAllWindows()"
   ]
  }
 ],
 "metadata": {
  "kernelspec": {
   "display_name": "Python 3",
   "language": "python",
   "name": "python3"
  },
  "language_info": {
   "codemirror_mode": {
    "name": "ipython",
    "version": 3
   },
   "file_extension": ".py",
   "mimetype": "text/x-python",
   "name": "python",
   "nbconvert_exporter": "python",
   "pygments_lexer": "ipython3",
   "version": "3.7.3"
  }
 },
 "nbformat": 4,
 "nbformat_minor": 2
}
