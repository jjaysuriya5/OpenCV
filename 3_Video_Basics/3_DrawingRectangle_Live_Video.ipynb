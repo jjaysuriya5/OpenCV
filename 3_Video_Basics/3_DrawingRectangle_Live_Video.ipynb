{
 "cells": [
  {
   "cell_type": "markdown",
   "metadata": {},
   "source": [
    "# Fixed Rectangle on live video"
   ]
  },
  {
   "cell_type": "code",
   "execution_count": 5,
   "metadata": {},
   "outputs": [],
   "source": [
    "import cv2\n",
    "\n",
    "cap = cv2.VideoCapture(0)\n",
    "\n",
    "width = int( cap.get( cv2.CAP_PROP_FRAME_WIDTH ) )\n",
    "height = int( cap.get( cv2.CAP_PROP_FRAME_HEIGHT ) )\n",
    "\n",
    "x = width//2\n",
    "y = height//2\n",
    "\n",
    "w = width // 4\n",
    "h = height // 4 \n",
    "\n",
    "while True :\n",
    "    \n",
    "    ret , frame = cap.read()\n",
    "    \n",
    "    frame = cv2.cvtColor( frame , cv2.COLOR_BGR2RGB )\n",
    "    \n",
    "    cv2.rectangle( frame , pt1 = (x,y) , pt2 = (x+w,y+h) , color = (0,0,255) , thickness = 4 )\n",
    "    \n",
    "    cv2.imshow( 'Live Video' ,  frame )\n",
    "    \n",
    "    if cv2.waitKey(1) & 0xFF == ord('q'):\n",
    "        break\n",
    "\n",
    "cap.release()\n",
    "cv2.destroyAllWindows()\n",
    "    \n",
    "    "
   ]
  },
  {
   "cell_type": "markdown",
   "metadata": {},
   "source": [
    "# Interactive Rectangle on live video"
   ]
  },
  {
   "cell_type": "code",
   "execution_count": 7,
   "metadata": {},
   "outputs": [],
   "source": [
    "import cv2\n",
    "\n",
    "\n",
    "# call back function \n",
    "\n",
    "def draw_rect(event , x , y , flags , param ):\n",
    "    global pt1 , pt2 , topleft_clicked , bottomright_clicked\n",
    "    \n",
    "    if event == cv2.EVENT_LBUTTONDOWN:\n",
    "            \n",
    "        # Reset the rectangle \n",
    "        if topleft_clicked == True and bottomright_clicked == True :\n",
    "            pt1 = (0,0)\n",
    "            pt2 = (0,0)\n",
    "            topleft_clicked = False\n",
    "            bottomright_clicked = False \n",
    "            \n",
    "        if topleft_clicked == False:\n",
    "            pt1 = (x,y)\n",
    "            topleft_clicked = True\n",
    "            \n",
    "        elif bottomright_clicked == False :\n",
    "            pt2 = (x,y)\n",
    "            bottomright_clicked = True\n",
    "\n",
    "\n",
    "# global variables\n",
    "\n",
    "pt1 = (0,0)\n",
    "pt2 = (0,0)\n",
    "topleft_clicked = False\n",
    "bottomright_clicked = False \n",
    "\n",
    "cap = cv2.VideoCapture(0)\n",
    "\n",
    "cv2.namedWindow('Live Video')\n",
    "\n",
    "cv2.setMouseCallback('Live Video' , draw_rect )\n",
    "\n",
    "\n",
    "while True :\n",
    "    \n",
    "    ret , frame = cap.read()\n",
    "    \n",
    "    frame = cv2.cvtColor( frame , cv2.COLOR_BGR2RGB )\n",
    "    \n",
    "    if topleft_clicked:\n",
    "        cv2.circle(frame , center = pt1 , radius = 5 , color = (0,0,255) , thickness = -1 )\n",
    "        \n",
    "    if topleft_clicked and bottomright_clicked:\n",
    "        cv2.rectangle( frame , pt1 = pt1, pt2 = pt2 , color = (0,0,255) , thickness = 4 )\n",
    "    \n",
    "    cv2.imshow( 'Live Video' ,  frame )\n",
    "    \n",
    "    if cv2.waitKey(1) & 0xFF == ord('q'):\n",
    "        break\n",
    "\n",
    "cap.release()\n",
    "cv2.destroyAllWindows()\n",
    "    \n",
    "    "
   ]
  },
  {
   "cell_type": "code",
   "execution_count": null,
   "metadata": {},
   "outputs": [],
   "source": []
  }
 ],
 "metadata": {
  "kernelspec": {
   "display_name": "Python 3",
   "language": "python",
   "name": "python3"
  },
  "language_info": {
   "codemirror_mode": {
    "name": "ipython",
    "version": 3
   },
   "file_extension": ".py",
   "mimetype": "text/x-python",
   "name": "python",
   "nbconvert_exporter": "python",
   "pygments_lexer": "ipython3",
   "version": "3.7.3"
  }
 },
 "nbformat": 4,
 "nbformat_minor": 2
}
