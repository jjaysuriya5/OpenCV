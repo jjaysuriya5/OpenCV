{
 "cells": [
  {
   "cell_type": "code",
   "execution_count": 4,
   "metadata": {},
   "outputs": [],
   "source": [
    "import cv2\n",
    "import time\n",
    "file = 'myvideo.mp4'\n",
    "\n",
    "cap = cv2.VideoCapture(file)\n",
    "\n",
    "if cap.isOpened() == False:\n",
    "    print('ERROR File Name')\n",
    "\n",
    "else:\n",
    "    \n",
    "    while cap.isOpened():\n",
    "        \n",
    "        ret , frame = cap.read()\n",
    "        \n",
    "        if ret == True :\n",
    "            time.sleep(1/20)\n",
    "            cv2.imshow('Existing Live Video' , frame)\n",
    "    \n",
    "            if cv2.waitKey(1) & 0xFF == ord('q'):\n",
    "                break\n",
    "                \n",
    "        else:\n",
    "            break\n",
    "\n",
    "cap.release()\n",
    "cv2.destroyAllWindows()"
   ]
  },
  {
   "cell_type": "code",
   "execution_count": null,
   "metadata": {},
   "outputs": [],
   "source": []
  }
 ],
 "metadata": {
  "kernelspec": {
   "display_name": "Python 3",
   "language": "python",
   "name": "python3"
  },
  "language_info": {
   "codemirror_mode": {
    "name": "ipython",
    "version": 3
   },
   "file_extension": ".py",
   "mimetype": "text/x-python",
   "name": "python",
   "nbconvert_exporter": "python",
   "pygments_lexer": "ipython3",
   "version": "3.7.3"
  }
 },
 "nbformat": 4,
 "nbformat_minor": 2
}
