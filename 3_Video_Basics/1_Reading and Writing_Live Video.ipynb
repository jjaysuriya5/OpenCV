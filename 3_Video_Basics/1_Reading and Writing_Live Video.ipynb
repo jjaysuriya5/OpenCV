{
 "cells": [
  {
   "cell_type": "markdown",
   "metadata": {},
   "source": [
    "# Reading a Live CAM Video"
   ]
  },
  {
   "cell_type": "code",
   "execution_count": 2,
   "metadata": {},
   "outputs": [],
   "source": [
    "import cv2\n",
    "\n",
    "\n",
    "cap = cv2.VideoCapture(0)\n",
    "\n",
    "width = int( cap.get(cv2.CAP_PROP_FRAME_WIDTH ) )\n",
    "height = int( cap.get(cv2.CAP_PROP_FRAME_HEIGHT) )\n",
    "\n",
    "while True:\n",
    "    \n",
    "    ret , frame = cap.read()\n",
    "    \n",
    "#     frame = cv2.cvtColor( frame , cv2.COLOR_BGR2RGB )\n",
    "    \n",
    "    cv2.imshow('Live Video' , frame)\n",
    "    \n",
    "    if cv2.waitKey(1) & 0xFF == ord('q'):\n",
    "        break\n",
    "\n",
    "cap.release()\n",
    "cv2.destroyAllWindows()"
   ]
  },
  {
   "cell_type": "markdown",
   "metadata": {},
   "source": [
    "# Writing a Live CAM Video"
   ]
  },
  {
   "cell_type": "code",
   "execution_count": 3,
   "metadata": {},
   "outputs": [],
   "source": [
    "cap = cv2.VideoCapture(0)\n",
    "\n",
    "width = int( cap.get(cv2.CAP_PROP_FRAME_WIDTH ) )\n",
    "height = int( cap.get(cv2.CAP_PROP_FRAME_HEIGHT) )\n",
    "\n",
    "writer = cv2.VideoWriter('myvideo.mp4' , cv2.VideoWriter_fourcc(*'DIVX') , 20 , (width , height) )\n",
    "\n",
    "\n",
    "while True:\n",
    "    \n",
    "    ret , frame = cap.read()\n",
    "    \n",
    "#     frame = cv2.cvtColor( frame , cv2.COLOR_BGR2RGB )\n",
    "\n",
    "    writer.write( frame )\n",
    "    \n",
    "    cv2.imshow('Live Video' , frame)\n",
    "    \n",
    "    if cv2.waitKey(1) & 0xFF == ord('q'):\n",
    "        break\n",
    "\n",
    "cap.release()\n",
    "writer.release()\n",
    "cv2.destroyAllWindows()"
   ]
  },
  {
   "cell_type": "markdown",
   "metadata": {},
   "source": [
    "- Our Audio is not captured in the above process , you can use the below approach to resolve the issue \n",
    "- pipe OpenCV images to FFMPEG"
   ]
  },
  {
   "cell_type": "markdown",
   "metadata": {},
   "source": [
    "# pipe OpenCV images to FFMPEG"
   ]
  },
  {
   "cell_type": "code",
   "execution_count": 7,
   "metadata": {},
   "outputs": [],
   "source": [
    "# import subprocess as sp\n",
    "\n",
    "# cap = cv2.VideoCapture(0)\n",
    "\n",
    "# width = int( cap.get(cv2.CAP_PROP_FRAME_WIDTH ) )\n",
    "# height = int( cap.get(cv2.CAP_PROP_FRAME_HEIGHT) )\n",
    "\n",
    "# output_file = 'myvideo_with_audio.mp4'\n",
    "\n",
    "\n",
    "# ffmpeg = 'FFMPEG'\n",
    "# dimension = '{}x{}'.format(width, height)\n",
    "# f_format = 'bgr24' # remember OpenCV uses bgr format\n",
    "# fps = str(cap.get(cv2.CAP_PROP_FPS))\n",
    "\n",
    "# command = [ffmpeg,\n",
    "#         '-y',\n",
    "#         '-f', 'rawvideo',\n",
    "#         '-vcodec','rawvideo',\n",
    "#         '-s', dimension,\n",
    "#         '-pix_fmt', 'bgr24',\n",
    "#         '-r', fps,\n",
    "#         '-i', '-',\n",
    "#         '-an',\n",
    "#         '-vcodec', 'mpeg4',\n",
    "#         '-b:v', '5000k',\n",
    "#         output_file ]\n",
    "\n",
    "# proc = sp.Popen(command, stdin=sp.PIPE, stderr=sp.PIPE)\n",
    "\n",
    "\n",
    "\n",
    "# while True:\n",
    "    \n",
    "#     ret , frame = cap.read()\n",
    "    \n",
    "# #     frame = cv2.cvtColor( frame , cv2.COLOR_BGR2RGB )\n",
    "\n",
    "# #     writer.write( frame )\n",
    "    \n",
    "#     cv2.imshow('Live Video' , frame)\n",
    "\n",
    "#     proc.stdin.write(frame.tostring())\n",
    "    \n",
    "#     if cv2.waitKey(1) & 0xFF == ord('q'):\n",
    "#         break\n",
    "\n",
    "# cap.release()\n",
    "# # writer.release()\n",
    "# proc.stdin.close()\n",
    "# proc.stderr.close()\n",
    "# cv2.destroyAllWindows()"
   ]
  },
  {
   "cell_type": "code",
   "execution_count": 4,
   "metadata": {},
   "outputs": [],
   "source": []
  },
  {
   "cell_type": "code",
   "execution_count": 8,
   "metadata": {},
   "outputs": [],
   "source": [
    "# import numpy\n",
    "# import subprocess as sp\n",
    "\n",
    "# FFMPEG_BIN = \"ffmpeg\"\n",
    "\n",
    "# command = [ FFMPEG_BIN,\n",
    "# '-i', 'fifo', # fifo is the named pipe\n",
    "# '-pix_fmt', 'bgr24', # opencv requires bgr24 pixel format.\n",
    "# '-vcodec', 'rawvideo',\n",
    "# '-an','-sn', # we want to disable audio processing (there is no audio)\n",
    "# '-f', 'image2pipe', '-']\n",
    "\n",
    "# pipe = sp.Popen(command, stdout = sp.PIPE, bufsize=10**8)\n",
    "\n",
    "# while True:\n",
    "    \n",
    "#     # Capture frame-by-frame\n",
    "#     raw_image = pipe.stdout.read(6404803)\n",
    "#     # transform the byte read into a numpy array\n",
    "#     image = numpy.fromstring(raw_image, dtype='uint8')\n",
    "#     image = image.reshape((480,640,3)) # Notice how height is specified first and then width\n",
    "#     if image is not None:\n",
    "#         cv2.imshow('Video', image)\n",
    "\n",
    "#     if cv2.waitKey(1) & 0xFF == ord('q'):\n",
    "#         break\n",
    "        \n",
    "# pipe.stdout.flush()\n",
    "# cv2.destroyAllWindows()\n"
   ]
  }
 ],
 "metadata": {
  "kernelspec": {
   "display_name": "Python 3",
   "language": "python",
   "name": "python3"
  },
  "language_info": {
   "codemirror_mode": {
    "name": "ipython",
    "version": 3
   },
   "file_extension": ".py",
   "mimetype": "text/x-python",
   "name": "python",
   "nbconvert_exporter": "python",
   "pygments_lexer": "ipython3",
   "version": "3.7.3"
  }
 },
 "nbformat": 4,
 "nbformat_minor": 2
}
