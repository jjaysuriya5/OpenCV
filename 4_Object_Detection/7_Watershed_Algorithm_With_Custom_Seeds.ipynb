{
 "cells": [
  {
   "cell_type": "code",
   "execution_count": 1,
   "metadata": {},
   "outputs": [],
   "source": [
    "import numpy as np\n",
    "import matplotlib.pyplot as plt\n",
    "import cv2"
   ]
  },
  {
   "cell_type": "code",
   "execution_count": 2,
   "metadata": {},
   "outputs": [],
   "source": [
    "road = cv2.imread('road_image.jpg')\n",
    "\n",
    "road_copy = road.copy()\n"
   ]
  },
  {
   "cell_type": "code",
   "execution_count": 3,
   "metadata": {},
   "outputs": [
    {
     "name": "stdout",
     "output_type": "stream",
     "text": [
      "(600, 800)\n",
      "(600, 800, 3)\n"
     ]
    }
   ],
   "source": [
    "marker_image = np.zeros( road.shape[:2] , dtype = np.int32)\n",
    "segments = np.zeros( road.shape , dtype = np.uint8 )\n",
    "\n",
    "print( marker_image.shape )\n",
    "print( segments.shape )"
   ]
  },
  {
   "cell_type": "markdown",
   "metadata": {},
   "source": [
    "# Different Color Map"
   ]
  },
  {
   "cell_type": "code",
   "execution_count": 4,
   "metadata": {},
   "outputs": [],
   "source": [
    "from matplotlib import cm"
   ]
  },
  {
   "cell_type": "code",
   "execution_count": 12,
   "metadata": {},
   "outputs": [],
   "source": [
    "def create_rgb( i ):\n",
    "    return tuple( np.array( cm.tab10(i)[:3] )*255 )\n",
    "\n",
    "colors = [ create_rgb(i) for i in range(10) ]"
   ]
  },
  {
   "cell_type": "code",
   "execution_count": 13,
   "metadata": {},
   "outputs": [
    {
     "data": {
      "text/plain": [
       "[(31.0, 119.0, 180.0),\n",
       " (255.0, 127.0, 14.0),\n",
       " (44.0, 160.0, 44.0),\n",
       " (214.0, 39.0, 40.0),\n",
       " (148.0, 103.0, 189.0),\n",
       " (140.0, 86.0, 75.0),\n",
       " (227.0, 119.0, 194.0),\n",
       " (127.0, 127.0, 127.0),\n",
       " (188.0, 189.0, 34.0),\n",
       " (23.0, 190.0, 207.0)]"
      ]
     },
     "execution_count": 13,
     "metadata": {},
     "output_type": "execute_result"
    }
   ],
   "source": [
    "colors"
   ]
  },
  {
   "cell_type": "markdown",
   "metadata": {},
   "source": [
    "# Algorithm with custom seeds"
   ]
  },
  {
   "cell_type": "code",
   "execution_count": 16,
   "metadata": {},
   "outputs": [],
   "source": [
    "# Global Variables \n",
    "\n",
    "n_markers = 10 \n",
    "current_marker = 0  # Color of the marker\n",
    "marker_updated = False # markers updated by algorithm\n",
    "\n",
    "# call back function \n",
    "\n",
    "def mouse_click( event , x , y , flags , param ):\n",
    "    \n",
    "    global marker_updated\n",
    "    \n",
    "    if event == cv2.EVENT_LBUTTONDOWN:\n",
    "        cv2.circle( marker_image , (x,y) , 10 , (current_marker) , -1 )\n",
    "        cv2.circle( road_copy , (x,y) , 10 , colors[current_marker] , -1 )\n",
    "        marker_updated = True\n",
    "        \n",
    "    \n",
    "# Calling Function\n",
    "\n",
    "cv2.namedWindow('Image')\n",
    "cv2.setMouseCallback('Image' , mouse_click )\n",
    "\n",
    "while True:\n",
    "    \n",
    "    cv2.imshow('Watershed Image' , segments )\n",
    "    cv2.imshow('Image' , road_copy )\n",
    "    \n",
    "   \n",
    "    \n",
    "    k = cv2.waitKey(1)\n",
    "    \n",
    "    if k == 27:  # ''' closing windows '''\n",
    "        break\n",
    "        \n",
    "    elif k == ord('c'):   # ''' Clearing our image on pressing c button '''\n",
    "        road_copy = road.copy()\n",
    "        marker_image = np.zeros( road.shape[:2] , dtype = np.int32)\n",
    "        segments = np.zeros( road.shape , dtype = np.uint8 )\n",
    "        \n",
    "    elif k > 0 and chr(k).isdigit():  # ''' Updating Color choise ''' \n",
    "        current_marker = int(chr(k))\n",
    "        \n",
    "    \n",
    "    if marker_updated:\n",
    "        marker_image_copy = marker_image.copy()\n",
    "        cv2.watershed( road , marker_image_copy )\n",
    "        \n",
    "        segments = np.zeros( road.shape , dtype = np.uint8 )\n",
    "        \n",
    "        for col_ind in range( n_markers ):\n",
    "            segments[marker_image_copy==(col_ind)] = colors[col_ind]\n",
    "            \n",
    "        \n",
    "cv2.destroyAllWindows()"
   ]
  },
  {
   "cell_type": "code",
   "execution_count": null,
   "metadata": {},
   "outputs": [],
   "source": []
  }
 ],
 "metadata": {
  "kernelspec": {
   "display_name": "Python 3",
   "language": "python",
   "name": "python3"
  },
  "language_info": {
   "codemirror_mode": {
    "name": "ipython",
    "version": 3
   },
   "file_extension": ".py",
   "mimetype": "text/x-python",
   "name": "python",
   "nbconvert_exporter": "python",
   "pygments_lexer": "ipython3",
   "version": "3.7.3"
  }
 },
 "nbformat": 4,
 "nbformat_minor": 2
}
