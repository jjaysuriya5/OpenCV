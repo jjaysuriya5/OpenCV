{
 "cells": [
  {
   "cell_type": "code",
   "execution_count": 1,
   "metadata": {},
   "outputs": [],
   "source": [
    "import cv2"
   ]
  },
  {
   "cell_type": "code",
   "execution_count": 2,
   "metadata": {},
   "outputs": [],
   "source": [
    "def ask_for_tracker():\n",
    "    print('Welcome! What Tracker API would you like to use?')\n",
    "    print('Enter 0 for Boosting: ')\n",
    "    print('Enter 1 for MIL: ')\n",
    "    print('Enter 2 for KCF: ')\n",
    "    print('Enter 3 for TLD: ')\n",
    "    print('Enter 4 for MedianFlow: ')\n",
    "    choice = input(\"Please select your tracker: \")\n",
    "    \n",
    "    if choice == '0':\n",
    "        tracker = cv2.TrackerBoosting_create()\n",
    "    if choice == '1':\n",
    "        tracker = cv2.TrackerMIL_create()\n",
    "    if choice == '2':\n",
    "        tracker = cv2.TrackerKCF_create()\n",
    "    if choice == '3':\n",
    "        tracker = cv2.TrackerTLD_create()\n",
    "    if choice == '4':\n",
    "        tracker = cv2.TrackerMedianFlow_create()\n",
    "        \n",
    "    return tracker"
   ]
  },
  {
   "cell_type": "code",
   "execution_count": 6,
   "metadata": {},
   "outputs": [
    {
     "name": "stdout",
     "output_type": "stream",
     "text": [
      "Welcome! What Tracker API would you like to use?\n",
      "Enter 0 for Boosting: \n",
      "Enter 1 for MIL: \n",
      "Enter 2 for KCF: \n",
      "Enter 3 for TLD: \n",
      "Enter 4 for MedianFlow: \n",
      "Please select your tracker: 2\n"
     ]
    }
   ],
   "source": [
    "tracker = ask_for_tracker()\n",
    "tracker_name = str(tracker).split()[0][1:]\n",
    "\n",
    "#read video\n",
    "cap = cv2.VideoCapture(0)\n",
    "\n",
    "#read first frame\n",
    "ret,frame = cap.read()\n",
    "\n",
    "#special function allows us to draw on the very first frame our desired ROI\n",
    "roi = cv2.selectROI(frame,False)\n",
    "\n",
    "# Initialize tracker with first frame and bounding box\n",
    "ret = tracker.init(frame,roi)\n",
    "\n",
    "while True:\n",
    "    #read a new frame\n",
    "    ret,frame =  cap.read()\n",
    "    \n",
    "    #update tracker\n",
    "    success,roi = tracker.update(frame)\n",
    "    \n",
    "    #roi variable is a tuple of 4 floats\n",
    "    #we need each value and we them as integers\n",
    "    (x,y,w,h) = tuple(map(int,roi))\n",
    "    \n",
    "    #Draw rectangle as tracker moves\n",
    "    if success:\n",
    "        # tracking success\n",
    "        p1= (x,y)\n",
    "        p2 = (x+w,y+h)\n",
    "        cv2.rectangle(frame,p1,p2,(0,255,0),3)\n",
    "    else:\n",
    "        #tracking failure\n",
    "        cv2.putText(frame,'Failure to Detect tracking!!',\n",
    "                   (100,200),cv2.FONT_HERSHEY_SIMPLEX,1,(255,0,0),3)\n",
    "        #display tracker type on frame\n",
    "    cv2.putText(frame,tracker_name,\n",
    "                   (20,400),cv2.FONT_HERSHEY_SIMPLEX,1,(255,0,0),3)\n",
    "    \n",
    "    #display result\n",
    "    cv2.imshow(tracker_name,frame)\n",
    "    \n",
    "    k = cv2.waitKey(1) & 0xFF\n",
    "    \n",
    "    if k == 27:\n",
    "        break\n",
    "            \n",
    "cv2.destroyAllWindows()\n",
    "cap.release()"
   ]
  },
  {
   "cell_type": "code",
   "execution_count": null,
   "metadata": {},
   "outputs": [],
   "source": []
  }
 ],
 "metadata": {
  "kernelspec": {
   "display_name": "Python 3",
   "language": "python",
   "name": "python3"
  },
  "language_info": {
   "codemirror_mode": {
    "name": "ipython",
    "version": 3
   },
   "file_extension": ".py",
   "mimetype": "text/x-python",
   "name": "python",
   "nbconvert_exporter": "python",
   "pygments_lexer": "ipython3",
   "version": "3.7.3"
  }
 },
 "nbformat": 4,
 "nbformat_minor": 2
}
